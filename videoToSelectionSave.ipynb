{
 "cells": [
  {
   "cell_type": "code",
   "execution_count": 1,
   "metadata": {},
   "outputs": [],
   "source": [
    "from ultralytics import YOLO\n",
    "\n",
    "model= YOLO(\"yolov8n.pt\")  # vidodan nesne takibi hızlı olsun diye yolov8n kulandım"
   ]
  },
  {
   "cell_type": "code",
   "execution_count": 4,
   "metadata": {},
   "outputs": [],
   "source": [
    "import os\n",
    "os.environ[\"KMP_DUPLICATE_LIB_OK\"]=\"TRUE\"\n"
   ]
  },
  {
   "cell_type": "code",
   "execution_count": 2,
   "metadata": {},
   "outputs": [],
   "source": [
    "import cv2"
   ]
  },
  {
   "cell_type": "code",
   "execution_count": 3,
   "metadata": {},
   "outputs": [],
   "source": [
    "labels=[ 'person', 'bicycle', 'car', 'motorcycle', 'airplane', 'bus', 'train', 'truck', 'boat', 'traffic light',\n",
    "         'fire hydrant', 'stop sign', 'parking meter', 'bench', 'bird', 'cat', 'dog', 'horse', 'sheep', 'cow',\n",
    "         'elephant', 'bear', 'zebra', 'giraffe', 'backpack', 'umbrella', 'handbag', 'tie', 'suitcase', 'frisbee',\n",
    "         'skis', 'snowboard', 'sports ball', 'kite', 'baseball bat', 'baseball glove', 'skateboard', 'surfboard',\n",
    "         'tennis racket', 'bottle', 'wine glass', 'cup', 'fork', 'knife', 'spoon', 'bowl', 'banana', 'apple',\n",
    "         'sandwich', 'orange', 'broccoli', 'carrot', 'hot dog', 'pizza', 'donut', 'cake', 'chair', 'couch',\n",
    "         'potted plant', 'bed', 'dining table', 'toilet', 'tv', 'laptop', 'mouse', 'remote', 'keyboard', 'cell phone',\n",
    "         'microwave', 'oven', 'toaster', 'sink', 'refrigerator', 'book', 'clock', 'vase', 'scissors', 'teddy bear',\n",
    "         'hair drier', 'toothbrush' ]"
   ]
  },
  {
   "cell_type": "code",
   "execution_count": 11,
   "metadata": {},
   "outputs": [
    {
     "name": "stderr",
     "output_type": "stream",
     "text": [
      "OpenCV: FFMPEG: tag 0x34363248/'H264' is not supported with codec id 27 and format 'mp4 / MP4 (MPEG-4 Part 14)'\n",
      "OpenCV: FFMPEG: fallback to use tag 0x31637661/'avc1'\n"
     ]
    }
   ],
   "source": [
    "\n",
    "import cv2\n",
    "\n",
    "#kamera = cv2.VideoCapture(0) #webcam den görüntüsünü analiz etmek istediğimizde \n",
    "kamera=cv2.VideoCapture(\"image/ömer.mp4\") # dosyada kayıtlı bir video var ise onun adresini veriyoruz ve onun üzerinde anazliz ediyor \n",
    "font = cv2.FONT_HERSHEY_SIMPLEX\n",
    "\n",
    "filename = \"/Users/abdulbarisoylemez/Visual code /yoloOne/proje/image/video1.mp4\" # kendi dosya yolunuzu verin \n",
    "codec = cv2.VideoWriter_fourcc(\"H\", \"2\", \"6\", \"4\") \n",
    "frame_rate = 30\n",
    "resolution = (640, 480)\n",
    "VideoFileOutput = cv2.VideoWriter(filename, codec, frame_rate, resolution)\n",
    "\n",
    "while True:\n",
    "    ret, kare = kamera.read()\n",
    "    if not ret:\n",
    "        break\n",
    "    \n",
    "    kare = cv2.resize(kare, (640, 480))\n",
    "    \n",
    "    imgs = cv2.cvtColor(kare, cv2.COLOR_BGR2RGB)\n",
    "    results = model(imgs,verbose=False) \n",
    "    \n",
    "    for i in range(len(results[0].boxes)):\n",
    "        x1,y1,x2,y2=results[0].boxes.xyxy[i]\n",
    "        score=results[0].boxes.conf[i]\n",
    "        label=results[0].boxes.cls[i]\n",
    "        \n",
    "        x1,y1,x2,y2,score,label=int(x1),int(y1),int(x2),int(y2),float(score),int(label)\n",
    "        \n",
    "        name=labels[label]\n",
    "        if score<0.5 or name!=\"person\": # başarı değeri 0.5 ten buyuk ve insan olanları al \n",
    "            continue\n",
    "        \n",
    "        cv2.rectangle(kare,(x1,y1),(x2,y2),(0,255,0),2)  # aldığımız nesnenin köşelerini bir kare ile çiziyoruz \n",
    "        text= name+\" \"+str(format(score, '.1f')) # karenin köşesine etiket ismini yazıyoruz \n",
    "        cv2.putText(kare, text,(x1, y1+10), font, 0.8, (0,0,255), 2) \n",
    "\n",
    "    \n",
    "    #cv2.imshow(\"Windows\",kare) # her bir frame göstermek için \n",
    "    VideoFileOutput.write(kare) # videoyu kaydetmek için\n",
    "\n",
    "    if cv2.waitKey(1) & 0xFF == ord('q'):\n",
    "        break\n",
    "\n",
    "kamera.release()\n",
    "VideoFileOutput.release()\n",
    "cv2.destroyAllWindows()\n"
   ]
  },
  {
   "cell_type": "code",
   "execution_count": null,
   "metadata": {},
   "outputs": [],
   "source": []
  },
  {
   "cell_type": "code",
   "execution_count": null,
   "metadata": {},
   "outputs": [],
   "source": []
  }
 ],
 "metadata": {
  "kernelspec": {
   "display_name": "yolo1",
   "language": "python",
   "name": "python3"
  },
  "language_info": {
   "codemirror_mode": {
    "name": "ipython",
    "version": 3
   },
   "file_extension": ".py",
   "mimetype": "text/x-python",
   "name": "python",
   "nbconvert_exporter": "python",
   "pygments_lexer": "ipython3",
   "version": "3.9.0"
  },
  "orig_nbformat": 4
 },
 "nbformat": 4,
 "nbformat_minor": 2
}
